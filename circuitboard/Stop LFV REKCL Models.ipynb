{
 "cells": [
  {
   "cell_type": "markdown",
   "id": "prostate-disco",
   "metadata": {},
   "source": [
    "# Stop Lookout for Vision Model\n",
    "\n",
    "Change the project name, model version & minimum inference units to match your model"
   ]
  },
  {
   "cell_type": "code",
   "execution_count": 1,
   "id": "useful-pledge",
   "metadata": {},
   "outputs": [],
   "source": [
    "#Start Lookut for Vision Model\n",
    "import os\n",
    "import boto3\n",
    "import io\n",
    "\n",
    "project = \"circuitboard-anomaly-detection\"\n",
    "client = boto3.client('lookoutvision')"
   ]
  },
  {
   "cell_type": "code",
   "execution_count": 2,
   "id": "mexican-place",
   "metadata": {},
   "outputs": [
    {
     "name": "stdout",
     "output_type": "stream",
     "text": [
      "us-east-1\n"
     ]
    }
   ],
   "source": [
    "# Check your region:\n",
    "print(boto3.session.Session().region_name)"
   ]
  },
  {
   "cell_type": "code",
   "execution_count": 4,
   "id": "listed-flesh",
   "metadata": {},
   "outputs": [
    {
     "name": "stdout",
     "output_type": "stream",
     "text": [
      "Starting model version 1 for project circuitboard-anomaly-detection\n",
      "Status: STARTING_HOSTING\n"
     ]
    }
   ],
   "source": [
    "# Stop Model\n",
    "model_version='1'\n",
    "min_inference_units=1 \n",
    "    \n",
    "print('Stopping model version ' + model_version  + ' for project ' + project )\n",
    "response=client.stop_model(ProjectName=project,\n",
    "    ModelVersion=model_version,\n",
    "    MinInferenceUnits=min_inference_units)\n",
    "print('Status: ' + response['Status'])"
   ]
  },
  {
   "cell_type": "code",
   "execution_count": 5,
   "id": "controversial-highlight",
   "metadata": {},
   "outputs": [
    {
     "name": "stdout",
     "output_type": "stream",
     "text": [
      "............................Done!\n"
     ]
    }
   ],
   "source": [
    "# Wait till model is hosted\n",
    "while client.describe_model(ProjectName=project,ModelVersion='1')['ModelDescription']['Status']!='HOSTED':\n",
    "    print('.',end='');time.sleep(5);\n",
    "print('Done!')"
   ]
  },
  {
   "cell_type": "markdown",
   "id": "unlikely-causing",
   "metadata": {},
   "source": [
    "# Stop Rekognition Custom Labels Model\n",
    "\n",
    "In the main() code block, change the model arn to match your model."
   ]
  },
  {
   "cell_type": "code",
   "execution_count": 6,
   "id": "distinguished-supervision",
   "metadata": {},
   "outputs": [
    {
     "name": "stdout",
     "output_type": "stream",
     "text": [
      "Starting model: arn:aws:rekognition:us-east-1:083291618045:project/circuit-board-anomaly-localization/version/circuit-board-anomaly-localization.2021-04-22T00.26.00/1619076361057\n",
      "Status: RUNNING\n",
      "Message: The model is running.\n",
      "Done...\n"
     ]
    }
   ],
   "source": [
    "#Stop Rekognition custom labels model\n",
    "import boto3\n",
    "import time\n",
    "\n",
    "\n",
    "def stop_model(model_arn):\n",
    "\n",
    "    client=boto3.client('rekognition')\n",
    "\n",
    "    print('Stopping model:' + model_arn)\n",
    "\n",
    "    #Stop the model\n",
    "    try:\n",
    "        response=client.stop_project_version(ProjectVersionArn=model_arn)\n",
    "        status=response['Status']\n",
    "        print ('Status: ' + status)\n",
    "    except Exception as e:  \n",
    "        print(e)  \n",
    "\n",
    "    print('Done...')\n",
    "    \n",
    "def main():\n",
    "    \n",
    "    model_arn='arn:aws:rekognition:us-east-1:083291618045:project/circuit-board-custom-labels-experiment-2/version/circuit-board-custom-labels-experiment-2.2021-04-27T06.27.15/1619530035592'\n",
    "    stop_model(model_arn)\n",
    "\n",
    "if __name__ == \"__main__\":\n",
    "    main() "
   ]
  },
  {
   "cell_type": "code",
   "execution_count": null,
   "id": "useful-session",
   "metadata": {},
   "outputs": [],
   "source": []
  }
 ],
 "metadata": {
  "kernelspec": {
   "display_name": "conda_python3",
   "language": "python",
   "name": "conda_python3"
  },
  "language_info": {
   "codemirror_mode": {
    "name": "ipython",
    "version": 3
   },
   "file_extension": ".py",
   "mimetype": "text/x-python",
   "name": "python",
   "nbconvert_exporter": "python",
   "pygments_lexer": "ipython3",
   "version": "3.6.13"
  }
 },
 "nbformat": 4,
 "nbformat_minor": 5
}
