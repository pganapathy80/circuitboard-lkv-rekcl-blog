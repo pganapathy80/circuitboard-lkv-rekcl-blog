{
 "cells": [
  {
   "cell_type": "markdown",
   "id": "structured-impact",
   "metadata": {},
   "source": [
    "# Start Lookout for Vision Model\n",
    "\n",
    "Change the project name to match your model"
   ]
  },
  {
   "cell_type": "code",
   "execution_count": 1,
   "id": "obvious-array",
   "metadata": {},
   "outputs": [],
   "source": [
    "#Start Lookut for Vision Model\n",
    "import os\n",
    "import boto3\n",
    "import io\n",
    "\n",
    "project = \"circuitboard-anomaly-detection\"\n",
    "client = boto3.client('lookoutvision')"
   ]
  },
  {
   "cell_type": "code",
   "execution_count": 2,
   "id": "front-incidence",
   "metadata": {},
   "outputs": [
    {
     "name": "stdout",
     "output_type": "stream",
     "text": [
      "us-east-1\n"
     ]
    }
   ],
   "source": [
    "# Check your region:\n",
    "print(boto3.session.Session().region_name)"
   ]
  },
  {
   "cell_type": "code",
   "execution_count": 3,
   "id": "competent-webster",
   "metadata": {},
   "outputs": [
    {
     "name": "stdout",
     "output_type": "stream",
     "text": [
      "Done!\n"
     ]
    }
   ],
   "source": [
    "# Check if training is finished\n",
    "import time\n",
    "\n",
    "while client.describe_model(ProjectName=project,ModelVersion='1')['ModelDescription']['Status']!='TRAINED':\n",
    "    print('.',end='');time.sleep(5);\n",
    "print('Done!')"
   ]
  },
  {
   "cell_type": "code",
   "execution_count": 4,
   "id": "entertaining-dance",
   "metadata": {},
   "outputs": [
    {
     "name": "stdout",
     "output_type": "stream",
     "text": [
      "Starting model version 1 for project circuitboard-anomaly-detection\n",
      "Status: STARTING_HOSTING\n"
     ]
    }
   ],
   "source": [
    "# Start Model\n",
    "model_version='1'\n",
    "min_inference_units=1 \n",
    "    \n",
    "print('Starting model version ' + model_version  + ' for project ' + project )\n",
    "response=client.start_model(ProjectName=project,\n",
    "    ModelVersion=model_version,\n",
    "    MinInferenceUnits=min_inference_units)\n",
    "print('Status: ' + response['Status'])"
   ]
  },
  {
   "cell_type": "code",
   "execution_count": 5,
   "id": "million-sydney",
   "metadata": {},
   "outputs": [
    {
     "name": "stdout",
     "output_type": "stream",
     "text": [
      "............................Done!\n"
     ]
    }
   ],
   "source": [
    "# Wait till model is hosted\n",
    "while client.describe_model(ProjectName=project,ModelVersion='1')['ModelDescription']['Status']!='HOSTED':\n",
    "    print('.',end='');time.sleep(5);\n",
    "print('Done!')"
   ]
  },
  {
   "cell_type": "markdown",
   "id": "bronze-robinson",
   "metadata": {},
   "source": [
    "# Start Rekognition Custom Labels Model\n",
    "\n",
    "In the main() code block, change the project arn, the model arn, and the version name to match your model."
   ]
  },
  {
   "cell_type": "code",
   "execution_count": 6,
   "id": "pediatric-singer",
   "metadata": {},
   "outputs": [
    {
     "name": "stdout",
     "output_type": "stream",
     "text": [
      "Starting model: arn:aws:rekognition:us-east-1:083291618045:project/circuit-board-anomaly-localization/version/circuit-board-anomaly-localization.2021-04-22T00.26.00/1619076361057\n",
      "Status: RUNNING\n",
      "Message: The model is running.\n",
      "Done...\n"
     ]
    }
   ],
   "source": [
    "#Start Rekognition custom labels model\n",
    "def start_model(project_arn, model_arn, version_name, min_inference_units):\n",
    "\n",
    "    client=boto3.client('rekognition')\n",
    "\n",
    "    try:\n",
    "        # Start the model\n",
    "        print('Starting model: ' + model_arn)\n",
    "        response=client.start_project_version(ProjectVersionArn=model_arn, MinInferenceUnits=min_inference_units)\n",
    "        # Wait for the model to be in the running state\n",
    "        project_version_running_waiter = client.get_waiter('project_version_running')\n",
    "        project_version_running_waiter.wait(ProjectArn=project_arn, VersionNames=[version_name])\n",
    "\n",
    "        #Get the running status\n",
    "        describe_response=client.describe_project_versions(ProjectArn=project_arn,\n",
    "            VersionNames=[version_name])\n",
    "        for model in describe_response['ProjectVersionDescriptions']:\n",
    "            print(\"Status: \" + model['Status'])\n",
    "            print(\"Message: \" + model['StatusMessage']) \n",
    "    except Exception as e:\n",
    "        print(e)\n",
    "        \n",
    "    print('Done...')\n",
    "    \n",
    "def main():\n",
    "    project_arn='arn:aws:rekognition:us-east-1:083291618045:project/circuit-board-anomaly-localization/1619071322137'\n",
    "    model_arn='arn:aws:rekognition:us-east-1:083291618045:project/circuit-board-anomaly-localization/version/circuit-board-anomaly-localization.2021-04-22T00.26.00/1619076361057'\n",
    "    min_inference_units=1 \n",
    "    version_name='circuit-board-anomaly-localization.2021-04-22T00.26.00'\n",
    "    start_model(project_arn, model_arn, version_name, min_inference_units)\n",
    "\n",
    "if __name__ == \"__main__\":\n",
    "    main()"
   ]
  },
  {
   "cell_type": "code",
   "execution_count": null,
   "id": "endless-driving",
   "metadata": {},
   "outputs": [],
   "source": []
  }
 ],
 "metadata": {
  "kernelspec": {
   "display_name": "conda_python3",
   "language": "python",
   "name": "conda_python3"
  },
  "language_info": {
   "codemirror_mode": {
    "name": "ipython",
    "version": 3
   },
   "file_extension": ".py",
   "mimetype": "text/x-python",
   "name": "python",
   "nbconvert_exporter": "python",
   "pygments_lexer": "ipython3",
   "version": "3.6.13"
  }
 },
 "nbformat": 4,
 "nbformat_minor": 5
}
