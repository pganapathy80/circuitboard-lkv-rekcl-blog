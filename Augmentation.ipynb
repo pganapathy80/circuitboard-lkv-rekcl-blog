{
 "cells": [
  {
   "cell_type": "markdown",
   "id": "amended-jungle",
   "metadata": {},
   "source": [
    "# Data Augmentation of training image set\n"
   ]
  },
  {
   "cell_type": "markdown",
   "id": "british-audio",
   "metadata": {},
   "source": [
    "Keras API in TensorFlow 2 is used for data augmentation of the training image set."
   ]
  },
  {
   "cell_type": "code",
   "execution_count": 73,
   "id": "tested-delight",
   "metadata": {},
   "outputs": [],
   "source": [
    "# Importing necessary functions\n",
    "from keras.preprocessing.image import ImageDataGenerator, array_to_img, img_to_array, load_img\n",
    "import boto3\n",
    "import io\n",
    "s3_connection = boto3.resource('s3')\n",
    "from PIL import Image, ImageDraw, ExifTags, ImageColor, ImageFont\n",
    "from IPython.display import display \n",
    "import pandas as pd\n",
    "import numpy as np\n",
    "import cv2\n",
    "%matplotlib inline"
   ]
  },
  {
   "cell_type": "markdown",
   "id": "higher-wednesday",
   "metadata": {},
   "source": [
    "You can change the values of the augmentation parameters below to change augmentation outputs. Keep in mind you should aim to emulate real world images and not cause excessive image distortion with augmentation."
   ]
  },
  {
   "cell_type": "code",
   "execution_count": 74,
   "id": "noticed-advocate",
   "metadata": {},
   "outputs": [],
   "source": [
    "# Initialising the ImageDataGenerator class.\n",
    "# We will pass in the augmentation parameters in the constructor.\n",
    "datagen = ImageDataGenerator(\n",
    "        rotation_range = 15,\n",
    "        shear_range = 0.1,\n",
    "        zoom_range = 0.3,\n",
    "        horizontal_flip = True,\n",
    "        brightness_range = (0.03, 0.06))"
   ]
  },
  {
   "cell_type": "markdown",
   "id": "changed-mandate",
   "metadata": {},
   "source": [
    "- In this code block training images which need to be augmented are imported from an S3 bucket.\n",
    "- Create an S3 bucket and load the images targeted for augmentation into the bucket. \n",
    "- Replace the value of the vairable   \"bucketname\" below to the name of the bucket you have created\n",
    "\n",
    "- You can also change the value of \"i\" below to change the number of augmented images to be generated.\n",
    "\n",
    "- The augmented images are loaded to this notebook in the local directory and can be downloaded, and then loaded to the desired S3 bucket for training. "
   ]
  },
  {
   "cell_type": "code",
   "execution_count": 75,
   "id": "expected-affiliation",
   "metadata": {},
   "outputs": [
    {
     "name": "stdout",
     "output_type": "stream",
     "text": [
      "test-anomaly_12.jpg\n",
      "<PIL.JpegImagePlugin.JpegImageFile image mode=RGB size=4000x2667 at 0x7FE600E46400>\n",
      "test-anomaly_13.jpg\n",
      "<PIL.JpegImagePlugin.JpegImageFile image mode=RGB size=4000x2667 at 0x7FE6063B0FD0>\n",
      "test-anomaly_15.jpg\n",
      "<PIL.JpegImagePlugin.JpegImageFile image mode=RGB size=4000x2667 at 0x7FE600E2A828>\n",
      "test-anomaly_16.jpg\n",
      "<PIL.JpegImagePlugin.JpegImageFile image mode=RGB size=4000x2667 at 0x7FE600DA1048>\n",
      "test-anomaly_19.jpg\n",
      "<PIL.JpegImagePlugin.JpegImageFile image mode=RGB size=4000x2667 at 0x7FE600DF8DD8>\n",
      "test-anomaly_2.jpg\n",
      "<PIL.JpegImagePlugin.JpegImageFile image mode=RGB size=4000x2667 at 0x7FE600DF8CF8>\n",
      "test-anomaly_20.jpg\n",
      "<PIL.JpegImagePlugin.JpegImageFile image mode=RGB size=4000x2667 at 0x7FE600DF8F60>\n",
      "test-anomaly_4.jpg\n",
      "<PIL.JpegImagePlugin.JpegImageFile image mode=RGB size=4000x2667 at 0x7FE600D4BE80>\n",
      "test-anomaly_5.jpg\n",
      "<PIL.JpegImagePlugin.JpegImageFile image mode=RGB size=4000x2667 at 0x7FE600E06128>\n",
      "test-anomaly_6.jpg\n",
      "<PIL.JpegImagePlugin.JpegImageFile image mode=RGB size=4000x2667 at 0x7FE600D66EB8>\n",
      "test-anomaly_8.jpg\n",
      "<PIL.JpegImagePlugin.JpegImageFile image mode=RGB size=4000x2667 at 0x7FE600D4B198>\n",
      "test-anomaly_9.jpg\n",
      "<PIL.JpegImagePlugin.JpegImageFile image mode=RGB size=4000x2667 at 0x7FE600D36080>\n",
      "train-anomaly_1.jpg\n",
      "<PIL.JpegImagePlugin.JpegImageFile image mode=RGB size=4000x2667 at 0x7FE600DA1630>\n",
      "train-anomaly_10.jpg\n",
      "<PIL.JpegImagePlugin.JpegImageFile image mode=RGB size=4000x2667 at 0x7FE60653F588>\n",
      "train-anomaly_11.jpg\n",
      "<PIL.JpegImagePlugin.JpegImageFile image mode=RGB size=4000x2667 at 0x7FE600D90400>\n",
      "train-anomaly_12.jpg\n",
      "<PIL.JpegImagePlugin.JpegImageFile image mode=RGB size=4000x2667 at 0x7FE600D5B3C8>\n",
      "train-anomaly_14.jpg\n",
      "<PIL.JpegImagePlugin.JpegImageFile image mode=RGB size=4000x2667 at 0x7FE600D66A20>\n",
      "train-anomaly_16.jpg\n",
      "<PIL.JpegImagePlugin.JpegImageFile image mode=RGB size=4000x2667 at 0x7FE600E062B0>\n",
      "train-anomaly_17.jpg\n",
      "<PIL.JpegImagePlugin.JpegImageFile image mode=RGB size=4000x2667 at 0x7FE60A9ED8D0>\n",
      "train-anomaly_19.jpg\n",
      "<PIL.JpegImagePlugin.JpegImageFile image mode=RGB size=4000x2667 at 0x7FE60A9ED860>\n",
      "train-anomaly_20.jpg\n",
      "<PIL.JpegImagePlugin.JpegImageFile image mode=RGB size=4000x2667 at 0x7FE600E06080>\n",
      "train-anomaly_4.jpg\n",
      "<PIL.JpegImagePlugin.JpegImageFile image mode=RGB size=4000x2667 at 0x7FE600D66BE0>\n",
      "train-anomaly_7.jpg\n",
      "<PIL.JpegImagePlugin.JpegImageFile image mode=RGB size=4000x2667 at 0x7FE600D020F0>\n",
      "train-anomaly_8.jpg\n",
      "<PIL.JpegImagePlugin.JpegImageFile image mode=RGB size=4000x2667 at 0x7FE600D02048>\n",
      "train-anomaly_9.jpg\n",
      "<PIL.JpegImagePlugin.JpegImageFile image mode=RGB size=4000x2667 at 0x7FE600CBED30>\n"
     ]
    }
   ],
   "source": [
    "#Variables\n",
    "bucketname = \"circuitboard-augmentation-solder-bucket\"\n",
    "contenttype = \"image/jpeg\"\n",
    "index = 0\n",
    "clients3 = boto3.client('s3')\n",
    "paginator = clients3.get_paginator('list_objects_v2')\n",
    "result = paginator.paginate(Bucket=bucketname)\n",
    "    \n",
    "for page in result:\n",
    "        if \"Contents\" in page:\n",
    "            for key in page[ \"Contents\" ]:\n",
    "                photo = key[ \"Key\" ]\n",
    "                print(photo)\n",
    "                s3_object = s3_connection.Object(bucketname,photo)\n",
    "                s3_response = s3_object.get()\n",
    "                stream = io.BytesIO(s3_response['Body'].read())\n",
    "                image1=Image.open(stream)\n",
    "                print(image1)\n",
    "                imgWidth, imgHeight = image1.size  \n",
    "                draw = ImageDraw.Draw(image1) \n",
    "                image1.show()\n",
    "                file_obj = clients3.get_object(Bucket=bucketname, Key=photo)\n",
    "                # reading the file content in bytes\n",
    "                file_content = file_obj[\"Body\"].read()\n",
    "                # creating 1D array from bytes data range between[0,255]\n",
    "                np_array = np.frombuffer(file_content, np.uint8)\n",
    "                # decoding array\n",
    "                image_np = cv2.imdecode(np_array, cv2.IMREAD_COLOR)\n",
    "                # saving image to tmp (writable) directory\n",
    "                cv2.imwrite(\"/tmp/\"+photo, image_np)\n",
    "                photopath = \"/tmp/\"+photo\n",
    "                # Loading a sample image \n",
    "                img = load_img(photopath) \n",
    "                # Converting the input sample image to an array\n",
    "                x = img_to_array(img)\n",
    "                # Reshaping the input image\n",
    "                x = x.reshape((1, ) + x.shape)\n",
    "                index += 1\n",
    "                # Generating and saving 5 augmented samples \n",
    "                # using the above defined parameters. \n",
    "                i = 0\n",
    "                for batch in datagen.flow(x, batch_size = 1,\n",
    "                          save_to_dir ='preview', \n",
    "                          save_prefix =photo, save_format ='jpeg'):\n",
    "                    i += 1\n",
    "                    if i > 1:\n",
    "                        break"
   ]
  },
  {
   "cell_type": "code",
   "execution_count": null,
   "id": "capital-twenty",
   "metadata": {},
   "outputs": [],
   "source": []
  },
  {
   "cell_type": "code",
   "execution_count": null,
   "id": "amended-rehabilitation",
   "metadata": {},
   "outputs": [],
   "source": []
  }
 ],
 "metadata": {
  "kernelspec": {
   "display_name": "conda_tensorflow2_p36",
   "language": "python",
   "name": "conda_tensorflow2_p36"
  },
  "language_info": {
   "codemirror_mode": {
    "name": "ipython",
    "version": 3
   },
   "file_extension": ".py",
   "mimetype": "text/x-python",
   "name": "python",
   "nbconvert_exporter": "python",
   "pygments_lexer": "ipython3",
   "version": "3.6.13"
  },
  "toc-autonumbering": false,
  "toc-showcode": true,
  "toc-showmarkdowntxt": true,
  "toc-showtags": false
 },
 "nbformat": 4,
 "nbformat_minor": 5
}
